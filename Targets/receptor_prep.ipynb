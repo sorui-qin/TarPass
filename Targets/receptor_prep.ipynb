{
 "cells": [
  {
   "cell_type": "markdown",
   "metadata": {},
   "source": [
    "### Receptor Preparation\n",
    "According to our design, in order to save computation time, the affinity maps from `/dock/maps/` are directly loaded during docking.  \n",
    "Normally, we would also provide pdbqt files in `/dock/pdbqtfiles/`.   \n",
    "However, just in case, we still provide this notebook as the most convenient and quick method for preparing pdbqt files."
   ]
  },
  {
   "cell_type": "code",
   "execution_count": null,
   "metadata": {},
   "outputs": [],
   "source": [
    "import glob\n",
    "from pathlib import Path"
   ]
  },
  {
   "cell_type": "code",
   "execution_count": null,
   "metadata": {},
   "outputs": [],
   "source": [
    "for target in sorted(glob.glob('./*/')):\n",
    "    rec_pdbs = glob.glob(f'{target}/*rec*.pdb')\n",
    "    if len(rec_pdbs) == 1:\n",
    "        rec_pdb = rec_pdbs[0]\n",
    "    else:\n",
    "        # Remove pdb file w/o co-factor for PRMT5 & MEK1\n",
    "        rec_pdb = [rec for rec in rec_pdbs if not rec.endswith(\"empty.pdb\")][0]\n",
    "\n",
    "    if not Path(f'{rec_pdb}qt').exists():\n",
    "        rec_prefix = rec_pdb.replace('.pdb', '')\n",
    "        command_prep = f'''mk_prepare_receptor.py -i {rec_prefix}.pdb -o {rec_prefix} -p'''\n",
    "        !{command_prep}"
   ]
  },
  {
   "cell_type": "markdown",
   "metadata": {},
   "source": [
    "⚠️ There some issues should be awared:\n",
    "- For HDAC, we suggest to prepare receptor with `HDAC/preprocess.ipynb`.\n",
    "- For BRD4, there is a rare bug that chain information in pdbqt file are shown as **AA** instead of the correct **A**. You should fix it manually."
   ]
  },
  {
   "cell_type": "markdown",
   "metadata": {},
   "source": [
    "Then move all prepared pdbqt files to `dock/pdbqtfiles`"
   ]
  },
  {
   "cell_type": "code",
   "execution_count": null,
   "metadata": {
    "vscode": {
     "languageId": "shellscript"
    }
   },
   "outputs": [],
   "source": [
    "! mv .*/*.pdbqt ../dock/pdbqtfiles/"
   ]
  }
 ],
 "metadata": {
  "kernelspec": {
   "display_name": "tarpass",
   "language": "python",
   "name": "python3"
  },
  "language_info": {
   "codemirror_mode": {
    "name": "ipython",
    "version": 3
   },
   "file_extension": ".py",
   "mimetype": "text/x-python",
   "name": "python",
   "nbconvert_exporter": "python",
   "pygments_lexer": "ipython3",
   "version": "3.12.2"
  }
 },
 "nbformat": 4,
 "nbformat_minor": 2
}

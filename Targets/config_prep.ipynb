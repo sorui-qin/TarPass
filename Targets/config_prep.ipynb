{
 "cells": [
  {
   "cell_type": "markdown",
   "metadata": {},
   "source": [
    "### Preparation of configuration files for docking with Gnina\n",
    "\n",
    "Since Gnina does not have a Python API, we chose to prepare the configuration files required to run Gnina in the `dock/config` directory in advance.  \n",
    "The docking parameters are consistent with those of AutoDock-Vina, with the docking box center set to the original ligand center or our predefined center  (so please ensure that the center files `center.json` are prepared in `5HT2A-AF` and `BRD4-holo`), with a size of 20 Å."
   ]
  },
  {
   "cell_type": "code",
   "execution_count": null,
   "metadata": {},
   "outputs": [],
   "source": [
    "import glob\n",
    "import json\n",
    "from rdkit import Chem\n",
    "from pathlib import Path\n",
    "\n",
    "config_path = Path('../dock/config/')\n",
    "config_path.mkdir(exist_ok=True)\n",
    "\n",
    "def sdf2centroid(sdf_file):\n",
    "    supp = Chem.SDMolSupplier(sdf_file, sanitize=False)\n",
    "    lig_xyz = supp[0].GetConformer().GetPositions()\n",
    "    centroid_x = lig_xyz[:,0].mean()\n",
    "    centroid_y = lig_xyz[:,1].mean()\n",
    "    centroid_z = lig_xyz[:,2].mean()\n",
    "    return centroid_x, centroid_y, centroid_z"
   ]
  },
  {
   "cell_type": "code",
   "execution_count": null,
   "metadata": {},
   "outputs": [],
   "source": [
    "for target in Path('./').glob(\"*/\"):\n",
    "    try:\n",
    "        x, y, z = sdf2centroid(next(target.glob('*ligand*.sdf')))\n",
    "    except:\n",
    "        center_li = json.loads((target/\"center.json\").read_text())[\"center\"]\n",
    "        x, y, z = center_li[0], center_li[1], center_li[-1]\n",
    "    \n",
    "    conf = f\"\"\"center_x = {x}\n",
    "center_y = {y}\n",
    "center_z = {z}\n",
    "size_x = 20\n",
    "size_y = 20\n",
    "size_z = 20\"\"\"\n",
    "    with open((config_path/f'{target}.txt'), 'w') as fi:\n",
    "        fi.write(conf)"
   ]
  }
 ],
 "metadata": {
  "kernelspec": {
   "display_name": "tarpass",
   "language": "python",
   "name": "python3"
  },
  "language_info": {
   "codemirror_mode": {
    "name": "ipython",
    "version": 3
   },
   "file_extension": ".py",
   "mimetype": "text/x-python",
   "name": "python",
   "nbconvert_exporter": "python",
   "pygments_lexer": "ipython3",
   "version": "3.11.8"
  }
 },
 "nbformat": 4,
 "nbformat_minor": 2
}

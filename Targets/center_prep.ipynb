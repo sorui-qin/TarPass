{
 "cells": [
  {
   "cell_type": "markdown",
   "metadata": {},
   "source": [
    "### Preparation for *apo* or AlphaFold structure\n",
    "Since these structures do not have ligands as references for the docking grid, we determined the center of the docking grid based on important residues.\n"
   ]
  },
  {
   "cell_type": "code",
   "execution_count": 1,
   "metadata": {},
   "outputs": [],
   "source": [
    "from Bio import PDB\n",
    "import numpy as np\n",
    "import json\n",
    "\n",
    "def get_pocket_center(pdb_file, residues):\n",
    "    parser = PDB.PDBParser(QUIET=True)\n",
    "    structure = parser.get_structure(\"protein\", pdb_file)\n",
    "    \n",
    "    coords = []\n",
    "    for model in structure:\n",
    "        for chain in model:\n",
    "            for residue in chain:\n",
    "                if residue.get_id()[1] in residues:\n",
    "                    for atom in residue:\n",
    "                        coords.append(atom.coord)\n",
    "    \n",
    "    center = np.mean(coords, axis=0)\n",
    "    return center.tolist()"
   ]
  },
  {
   "cell_type": "code",
   "execution_count": 4,
   "metadata": {},
   "outputs": [
    {
     "data": {
      "text/plain": [
       "[4.388363838195801, 1.8845454454421997, -5.06824254989624]"
      ]
     },
     "execution_count": 4,
     "metadata": {},
     "output_type": "execute_result"
    }
   ],
   "source": [
    "# 5HT2A-AF\n",
    "pocket_center = get_pocket_center(\"5HT2A-AF/5HT2A-AF_P28223-F1-model_v4_rec_A.pdb\", [155, 336, 339])\n",
    "\n",
    "with open(\"5HT2A-AF/center.json\", \"w\") as f:\n",
    "    json.dump({\"center\": pocket_center}, f)\n",
    "pocket_center"
   ]
  },
  {
   "cell_type": "code",
   "execution_count": null,
   "metadata": {},
   "outputs": [
    {
     "data": {
      "text/plain": [
       "[28.334871292114258, 46.4641227722168, -0.42205554246902466]"
      ]
     },
     "execution_count": 3,
     "metadata": {},
     "output_type": "execute_result"
    }
   ],
   "source": [
    "# BRD4-apo\n",
    "pocket_center = get_pocket_center(\"BRD4-apo/BRD4-apo_2oss_rec_A.pdb\", [140, 81, 82, 83])\n",
    "\n",
    "with open(\"BRD4-apo/center.json\", \"w\") as f:\n",
    "    json.dump({\"center\": pocket_center}, f)\n",
    "pocket_center"
   ]
  }
 ],
 "metadata": {
  "kernelspec": {
   "display_name": "tarpass",
   "language": "python",
   "name": "python3"
  },
  "language_info": {
   "codemirror_mode": {
    "name": "ipython",
    "version": 3
   },
   "file_extension": ".py",
   "mimetype": "text/x-python",
   "name": "python",
   "nbconvert_exporter": "python",
   "pygments_lexer": "ipython3",
   "version": "3.12.2"
  }
 },
 "nbformat": 4,
 "nbformat_minor": 2
}

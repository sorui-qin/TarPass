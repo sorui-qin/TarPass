{
 "cells": [
  {
   "cell_type": "markdown",
   "metadata": {},
   "source": [
    "### Preprocessing for HDAC6\n",
    "HDAC6 is a type of *zinc metalloprotein*, and zinc atoms are not supported in the Vina force field. Therefore, docking with HDAC6 requires the use of the special updated force field, AutoDock4Zn.  \n",
    "This notebook will implement the preparation process for the HDAC6 protein based on the tutorial from the [official documentation](https://autodock-vina.readthedocs.io/en/latest/docking_zinc.html) of AutoDock-Vina.\n",
    "\n",
    "ADFR suite is required for the following steps."
   ]
  },
  {
   "cell_type": "code",
   "execution_count": 1,
   "metadata": {},
   "outputs": [],
   "source": [
    "from vina import Vina\n",
    "import subprocess\n",
    "import rdkit.Chem as Chem\n",
    "from rdkit.Chem import AllChem\n",
    "\n",
    "script_dir = '../../Dock/autodock_scripts'\n",
    "lig_prefix = 'HDAC6_8bjk_ligand_A'\n",
    "rec_prefix = 'HDAC6_8bjk_rec_A'"
   ]
  },
  {
   "cell_type": "markdown",
   "metadata": {},
   "source": [
    "#### Receptor and ligand preparation"
   ]
  },
  {
   "cell_type": "code",
   "execution_count": 2,
   "metadata": {},
   "outputs": [
    {
     "name": "stdout",
     "output_type": "stream",
     "text": [
      "\n",
      "Files written:\n",
      "HDAC6_8bjk_rec_A.pdbqt <-- static (i.e., rigid) receptor input file\n"
     ]
    }
   ],
   "source": [
    "# Convert to pdbqt\n",
    "command_prep = f'''mk_prepare_receptor.py -i {rec_prefix}.pdb -o {rec_prefix} -p'''\n",
    "proc = subprocess.Popen(command_prep, shell=True, stdin=subprocess.PIPE, \n",
    "                        stdout=subprocess.PIPE, stderr=subprocess.PIPE)\n",
    "\n",
    "for line in proc.stdout:\n",
    "    print(line.strip().decode())"
   ]
  },
  {
   "cell_type": "code",
   "execution_count": 3,
   "metadata": {},
   "outputs": [
    {
     "name": "stdout",
     "output_type": "stream",
     "text": [
      "Wrote 1 TZ atoms on HDAC6_8bjk_rec_A_tz.pdbqt.\n"
     ]
    }
   ],
   "source": [
    "# Add zinc pseudo atom\n",
    "command_zinc = f'''pythonsh {script_dir}/zinc_pseudo.py -r {rec_prefix}.pdbqt -o {rec_prefix}_tz.pdbqt'''\n",
    "proc = subprocess.Popen(command_zinc, shell=True, stdin=subprocess.PIPE, \n",
    "                        stdout=subprocess.PIPE, stderr=subprocess.PIPE)\n",
    "\n",
    "for line in proc.stdout:\n",
    "    print(line.strip().decode())"
   ]
  },
  {
   "cell_type": "code",
   "execution_count": 4,
   "metadata": {},
   "outputs": [
    {
     "name": "stdout",
     "output_type": "stream",
     "text": [
      "Input molecules processed: 1, skipped: 0\n",
      "PDBQT files written: 1\n",
      "PDBQT files not written due to error: 0\n",
      "Input molecules with errors: 0\n"
     ]
    }
   ],
   "source": [
    "command_ligprep = f'''mk_prepare_ligand.py -i {lig_prefix}.sdf -o {lig_prefix}.pdbqt'''\n",
    "proc = subprocess.Popen(command_ligprep, shell=True, stdin=subprocess.PIPE, \n",
    "                        stdout=subprocess.PIPE, stderr=subprocess.PIPE)\n",
    "\n",
    "for line in proc.stdout:\n",
    "    print(line.strip().decode())"
   ]
  },
  {
   "cell_type": "markdown",
   "metadata": {},
   "source": [
    "#### Generating affinity maps\n",
    "\n",
    "**AD4Zn.dat** must be downloaded in the working directory before running the code below.  \n",
    "It can be download at [here](https://github.com/ccsb-scripps/AutoDock-Vina/blob/develop/data/AD4Zn.dat)."
   ]
  },
  {
   "cell_type": "code",
   "execution_count": 5,
   "metadata": {},
   "outputs": [
    {
     "data": {
      "text/plain": [
       "('4.6857', '2.6914', '28.8837')"
      ]
     },
     "execution_count": 5,
     "metadata": {},
     "output_type": "execute_result"
    }
   ],
   "source": [
    "# Get the centroid of ligand as the box center\n",
    "def sdf2centroid(sdf_file):\n",
    "    supp = Chem.SDMolSupplier(sdf_file, sanitize=False)\n",
    "    lig_xyz = supp[0].GetConformer().GetPositions()\n",
    "    centroid_x = '%.4f'% lig_xyz[:,0].mean()\n",
    "    centroid_y = '%.4f'% lig_xyz[:,1].mean()\n",
    "    centroid_z = '%.4f'% lig_xyz[:,2].mean()\n",
    "    return centroid_x, centroid_y, centroid_z\n",
    "\n",
    "centroid_x, centroid_y, centroid_z = sdf2centroid(f'{lig_prefix}.sdf')\n",
    "centroid_x, centroid_y, centroid_z "
   ]
  },
  {
   "cell_type": "code",
   "execution_count": 6,
   "metadata": {},
   "outputs": [],
   "source": [
    "# Set the grid box\n",
    "# Here the box size were set as 19.875Å * 19.875Å * 19.875Å\n",
    "# e.g. (num of grid points - 1) * 0.375Å\n",
    "\n",
    "gpf4zn = f'''pythonsh {script_dir}/prepare_gpf4zn.py \\\n",
    "                -l {lig_prefix}.pdbqt \\\n",
    "                -r {rec_prefix}_tz.pdbqt \\\n",
    "                -o protein_tz.gpf \\\n",
    "                -p npts=54,54,54\\\n",
    "                -p gridcenter={centroid_x},{centroid_y},{centroid_z}  \\\n",
    "                –p parameter_file=AD4Zn.dat'''\n",
    "\n",
    "proc = subprocess.Popen(\n",
    "                gpf4zn, \n",
    "                shell=True, \n",
    "                stdin=subprocess.PIPE, \n",
    "                stdout=subprocess.PIPE, \n",
    "                stderr=subprocess.PIPE)\n",
    "\n",
    "for line in proc.stdout:\n",
    "    print(line.strip().decode())"
   ]
  },
  {
   "cell_type": "markdown",
   "metadata": {},
   "source": [
    "#### Generate the docking grid"
   ]
  },
  {
   "cell_type": "code",
   "execution_count": 7,
   "metadata": {},
   "outputs": [],
   "source": [
    "command_grid = '''autogrid4 -p protein_tz.gpf -l protein_tz.glg'''\n",
    "proc = subprocess.Popen(\n",
    "                command_grid, \n",
    "                shell=True, \n",
    "                stdin=subprocess.PIPE, \n",
    "                stdout=subprocess.PIPE, \n",
    "                stderr=subprocess.PIPE)\n",
    "\n",
    "for line in proc.stdout:\n",
    "    print(line.strip().decode())"
   ]
  },
  {
   "cell_type": "code",
   "execution_count": 8,
   "metadata": {},
   "outputs": [],
   "source": [
    "# Move all maps file to ./maps/\n",
    "!mkdir maps\n",
    "!mv HDAC6_8bjk_rec_A_tz.* maps"
   ]
  }
 ],
 "metadata": {
  "kernelspec": {
   "display_name": "tarpass",
   "language": "python",
   "name": "python3"
  },
  "language_info": {
   "codemirror_mode": {
    "name": "ipython",
    "version": 3
   },
   "file_extension": ".py",
   "mimetype": "text/x-python",
   "name": "python",
   "nbconvert_exporter": "python",
   "pygments_lexer": "ipython3",
   "version": "3.11.8"
  }
 },
 "nbformat": 4,
 "nbformat_minor": 2
}

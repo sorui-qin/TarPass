{
 "cells": [
  {
   "cell_type": "code",
   "execution_count": 2,
   "metadata": {},
   "outputs": [],
   "source": [
    "from vina import Vina\n",
    "import subprocess\n",
    "import rdkit.Chem as Chem\n",
    "from rdkit.Chem import AllChem"
   ]
  },
  {
   "cell_type": "code",
   "execution_count": 3,
   "metadata": {},
   "outputs": [],
   "source": [
    "def sdf2centroid(sdf_file): # Get the centroid coordinate of ligand.\n",
    "    supp = Chem.SDMolSupplier(sdf_file, sanitize=False)\n",
    "    lig_xyz = supp[0].GetConformer().GetPositions()\n",
    "    centroid_x = '%.4f'% lig_xyz[:,0].mean()\n",
    "    centroid_y = '%.4f'% lig_xyz[:,1].mean()\n",
    "    centroid_z = '%.4f'% lig_xyz[:,2].mean()\n",
    "    return centroid_x, centroid_y, centroid_z"
   ]
  },
  {
   "cell_type": "code",
   "execution_count": 4,
   "metadata": {},
   "outputs": [],
   "source": [
    "centroid_x, centroid_y, centroid_z = sdf2centroid(f'HDAC6_8bjk_ligand_A.sdf')\n",
    "lig_pdbqt = 'HDAC6_8bjk_ligand_A.pdbqt'\n",
    "rectz_pdbqt = 'HDAC6_8bjk_rec_A_tz.pdbqt'\n",
    "\n",
    "command = f'''pythonsh ../../Dock/autodock_scripts/prepare_gpf4zn.py \\\n",
    "                -l {lig_pdbqt} \\\n",
    "                -r {rectz_pdbqt} \\\n",
    "                -o protein_tz.gpf \\\n",
    "                -p npts=20,20,20 \\\n",
    "                -p gridcenter={centroid_x},{centroid_y},{centroid_z}  \\\n",
    "                –p parameter_file=AD4Zn.dat'''"
   ]
  },
  {
   "cell_type": "code",
   "execution_count": 10,
   "metadata": {},
   "outputs": [
    {
     "name": "stdout",
     "output_type": "stream",
     "text": [
      "\n"
     ]
    }
   ],
   "source": [
    "proc = subprocess.Popen(\n",
    "                command, \n",
    "                shell=True, \n",
    "                stdin=subprocess.PIPE, \n",
    "                stdout=subprocess.PIPE, \n",
    "                stderr=subprocess.PIPE)\n",
    "\n",
    "print(proc.communicate()[1].decode('utf-8'))"
   ]
  },
  {
   "cell_type": "markdown",
   "metadata": {},
   "source": [
    "### Generate the docking grid\n",
    "\n",
    "**AD4Zn.dat** must be downloaded in the working directory before running the code below.  \n",
    "It can be download at [here](https://github.com/ccsb-scripps/AutoDock-Vina/blob/develop/data/AD4Zn.dat)."
   ]
  },
  {
   "cell_type": "code",
   "execution_count": 12,
   "metadata": {},
   "outputs": [
    {
     "name": "stdout",
     "output_type": "stream",
     "text": [
      "\n"
     ]
    }
   ],
   "source": [
    "command2 = '''autogrid4 -p protein_tz.gpf -l protein_tz.glg'''\n",
    "proc = subprocess.Popen(\n",
    "                command2, \n",
    "                shell=True, \n",
    "                stdin=subprocess.PIPE, \n",
    "                stdout=subprocess.PIPE, \n",
    "                stderr=subprocess.PIPE)\n",
    "\n",
    "print(proc.communicate()[1].decode('utf-8'))"
   ]
  },
  {
   "cell_type": "code",
   "execution_count": 3,
   "metadata": {},
   "outputs": [],
   "source": [
    "from openbabel import pybel\n",
    "from meeko import MoleculePreparation\n",
    "\n",
    "class PrepLig(object):\n",
    "    def __init__(self, input_mol, mol_format):\n",
    "        if mol_format == 'smi':\n",
    "            self.ob_mol = pybel.readstring('smi', input_mol)\n",
    "        elif mol_format == 'sdf': \n",
    "            self.ob_mol = next(pybel.readfile(mol_format, input_mol))\n",
    "        else:\n",
    "            raise ValueError(f'mol_format {mol_format} not supported')\n",
    "        \n",
    "    def addH(self, polaronly=False, correctforph=True, PH=7): \n",
    "        self.ob_mol.OBMol.AddHydrogens(polaronly, correctforph, PH)\n",
    "        self.ob_mol.write('sdf', filename='tmp_h.sdf')\n",
    "\n",
    "    def gen_conf(self):\n",
    "        sdf_block = self.ob_mol.write('sdf')\n",
    "        rdkit_mol = Chem.MolFromMolBlock(sdf_block, removeHs=False)\n",
    "        AllChem.EmbedMolecule(rdkit_mol, Chem.rdDistGeom.ETKDGv3())\n",
    "        self.ob_mol = pybel.readstring('sdf', Chem.MolToMolBlock(rdkit_mol))\n",
    "        self.ob_mol.write('sdf', filename='conf_h.sdf')\n",
    "\n",
    "\n",
    "    def get_pdbqt(self, lig_pdbqt=None):\n",
    "        preparator = MoleculePreparation()\n",
    "        preparator.prepare(self.ob_mol.OBMol)\n",
    "        if lig_pdbqt is not None: \n",
    "            preparator.write_pdbqt_file(lig_pdbqt)\n",
    "            return \n",
    "        else: \n",
    "            return preparator.write_pdbqt_string()"
   ]
  },
  {
   "cell_type": "code",
   "execution_count": null,
   "metadata": {},
   "outputs": [],
   "source": [
    "lig = PrepLig('5wgl_S_AH4.sdf', '.sdf')\n",
    "lig.addH()\n",
    "lig.get_pdbqt('5wgl_S_AH4.pdbqt')"
   ]
  }
 ],
 "metadata": {
  "kernelspec": {
   "display_name": "tarpass",
   "language": "python",
   "name": "python3"
  },
  "language_info": {
   "codemirror_mode": {
    "name": "ipython",
    "version": 3
   },
   "file_extension": ".py",
   "mimetype": "text/x-python",
   "name": "python",
   "nbconvert_exporter": "python",
   "pygments_lexer": "ipython3",
   "version": "3.11.8"
  }
 },
 "nbformat": 4,
 "nbformat_minor": 2
}

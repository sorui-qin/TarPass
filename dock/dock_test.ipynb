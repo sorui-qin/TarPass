{
 "cells": [
  {
   "cell_type": "code",
   "execution_count": 14,
   "metadata": {},
   "outputs": [],
   "source": [
    "import glob\n",
    "import numpy as np\n",
    "from rdkit import Chem\n",
    "from rdkit.Chem.rdMolAlign import CalcRMS"
   ]
  },
  {
   "cell_type": "code",
   "execution_count": 15,
   "metadata": {},
   "outputs": [],
   "source": [
    "target_dirs = sorted(glob.glob('../Targets/*/'))\n",
    "target_dirs.remove('../Targets/5HT2A_AF/')\n",
    "target_dirs.remove('../Targets/BRD4_holo/')\n",
    "#target_dirs.remove('../Targets/HDAC6/')"
   ]
  },
  {
   "cell_type": "code",
   "execution_count": 25,
   "metadata": {},
   "outputs": [],
   "source": [
    "rmsd_list_8 = []\n",
    "for target in target_dirs:\n",
    "    test_sdf = glob.glob(f'{target}/*ligand*.sdf')[0]\n",
    "    docked_sdf =  f'{target}/redock_8.sdf'\n",
    "\n",
    "    mol = Chem.SDMolSupplier(test_sdf)[0]\n",
    "    checks = Chem.SDMolSupplier(docked_sdf)\n",
    "    rmsd_list_8.append((target, \n",
    "                      np.min(\n",
    "                          [CalcRMS(Chem.RemoveHs(check), Chem.RemoveHs(mol)) \n",
    "                           for check in checks])\n",
    "                        ))"
   ]
  },
  {
   "cell_type": "code",
   "execution_count": 26,
   "metadata": {},
   "outputs": [
    {
     "data": {
      "text/plain": [
       "[('../Targets/5HT2A/', 0.4265097888677357),\n",
       " ('../Targets/BCL2/', 0.4100675790096538),\n",
       " ('../Targets/BRAF/', 0.34949404989082583),\n",
       " ('../Targets/BRD4/', 0.5839817586572755),\n",
       " ('../Targets/BTK/', 0.21764697535769473),\n",
       " ('../Targets/Beta2AR/', 0.7391649487283417),\n",
       " ('../Targets/DRD2/', 0.6765354694170194),\n",
       " ('../Targets/HDAC6/', 4.122816423377296),\n",
       " ('../Targets/HIV-RT/', 0.3259310701666842),\n",
       " ('../Targets/JAK2/', 0.6903930588857161),\n",
       " ('../Targets/MEK1/', 0.3561567753793943),\n",
       " ('../Targets/NAMPT/', 0.2410266453112602),\n",
       " ('../Targets/PI3K-alpha/', 0.6910978464250439),\n",
       " ('../Targets/PPAR-alpha/', 7.296895120529004),\n",
       " ('../Targets/PRMT5/', 0.4820474954595121),\n",
       " ('../Targets/ROCK1/', 5.065602905874089),\n",
       " ('../Targets/RXR-alpha/', 0.5471239618492592),\n",
       " ('../Targets/TYK2/', 0.9588683530696579)]"
      ]
     },
     "execution_count": 26,
     "metadata": {},
     "output_type": "execute_result"
    }
   ],
   "source": [
    "rmsd_list_8"
   ]
  },
  {
   "cell_type": "code",
   "execution_count": 27,
   "metadata": {},
   "outputs": [
    {
     "data": {
      "text/plain": [
       "(1.3434089014586368,\n",
       " 0.5655528602532673,\n",
       " 0.21764697535769473,\n",
       " 7.296895120529004)"
      ]
     },
     "execution_count": 27,
     "metadata": {},
     "output_type": "execute_result"
    }
   ],
   "source": [
    "rmsd_8 = [rmsd[-1] for rmsd in rmsd_list_8]\n",
    "np.mean(rmsd_8), np.median(rmsd_8), np.min(rmsd_8), np.max(rmsd_8)"
   ]
  },
  {
   "cell_type": "code",
   "execution_count": 24,
   "metadata": {},
   "outputs": [
    {
     "data": {
      "text/plain": [
       "[('../Targets/5HT2A/', 0.4034506165567232),\n",
       " ('../Targets/BCL2/', 0.4100675790096538),\n",
       " ('../Targets/BRAF/', 0.35763715317809686),\n",
       " ('../Targets/BRD4/', 0.5724569124979336),\n",
       " ('../Targets/BTK/', 0.2477498738647509),\n",
       " ('../Targets/Beta2AR/', 0.7391649487283417),\n",
       " ('../Targets/DRD2/', 0.6670836942786212),\n",
       " ('../Targets/HDAC6/', 4.122816423377296),\n",
       " ('../Targets/HIV-RT/', 0.34630216213589954),\n",
       " ('../Targets/JAK2/', 0.6903930588857161),\n",
       " ('../Targets/MEK1/', 0.3558122796902579),\n",
       " ('../Targets/NAMPT/', 0.23646379215431704),\n",
       " ('../Targets/PI3K-alpha/', 0.6670067465925663),\n",
       " ('../Targets/PPAR-alpha/', 4.824944807974492),\n",
       " ('../Targets/PRMT5/', 0.4925478287804785),\n",
       " ('../Targets/ROCK1/', 5.065602905874089),\n",
       " ('../Targets/RXR-alpha/', 0.5392697394179016),\n",
       " ('../Targets/TYK2/', 0.9588683530696579)]"
      ]
     },
     "execution_count": 24,
     "metadata": {},
     "output_type": "execute_result"
    }
   ],
   "source": [
    "rmsd_list_32 = []\n",
    "for target in target_dirs:\n",
    "    test_sdf = glob.glob(f'{target}/*ligand*.sdf')[0]\n",
    "    docked_sdf =  f'{target}/redock_32.sdf'\n",
    "\n",
    "    mol = Chem.SDMolSupplier(test_sdf)[0]\n",
    "    checks = Chem.SDMolSupplier(docked_sdf)\n",
    "    rmsd_list_32.append((target, \n",
    "                      np.min(\n",
    "                          [CalcRMS(Chem.RemoveHs(check), Chem.RemoveHs(mol)) \n",
    "                           for check in checks])\n",
    "                        ))\n",
    "rmsd_list_32"
   ]
  },
  {
   "cell_type": "code",
   "execution_count": 28,
   "metadata": {},
   "outputs": [
    {
     "data": {
      "text/plain": [
       "(1.2054243820037105,\n",
       " 0.5558633259579175,\n",
       " 0.23646379215431704,\n",
       " 5.065602905874089)"
      ]
     },
     "execution_count": 28,
     "metadata": {},
     "output_type": "execute_result"
    }
   ],
   "source": [
    "rmsd_32 = [rmsd[-1] for rmsd in rmsd_list_32]\n",
    "np.mean(rmsd_32), np.median(rmsd_32), np.min(rmsd_32), np.max(rmsd_32)"
   ]
  },
  {
   "cell_type": "code",
   "execution_count": 29,
   "metadata": {},
   "outputs": [
    {
     "name": "stdout",
     "output_type": "stream",
     "text": [
      "正态性检验结果：组1 p值=0.000, 组2 p值=0.000\n",
      "方差齐性检验p值=0.807\n",
      "选择的检验方法：曼-惠特尼U检验\n",
      "显著性检验结果：p值=0.912\n",
      "结果不显著，无法拒绝原假设\n"
     ]
    }
   ],
   "source": [
    "from scipy import stats\n",
    "\n",
    "# 请替换为你的数据（示例数据）\n",
    "group1 = np.array(rmsd_8)\n",
    "group2 = np.array(rmsd_32)\n",
    "\n",
    "# 正态性检验（Shapiro-Wilk）\n",
    "_, p1 = stats.shapiro(group1)\n",
    "_, p2 = stats.shapiro(group2)\n",
    "normal = p1 > 0.05 and p2 > 0.05  # 显著性水平α=0.05\n",
    "\n",
    "# 方差齐性检验（Levene）\n",
    "_, p_var = stats.levene(group1, group2)\n",
    "equal_var = p_var > 0.05\n",
    "\n",
    "# 选择检验方法并执行\n",
    "if normal and equal_var:\n",
    "    t_stat, p_value = stats.ttest_ind(group1, group2)\n",
    "    test_used = \"独立样本t检验\"\n",
    "else:\n",
    "    u_stat, p_value = stats.mannwhitneyu(group1, group2)\n",
    "    test_used = \"曼-惠特尼U检验\"\n",
    "\n",
    "# 输出结果\n",
    "print(f\"正态性检验结果：组1 p值={p1:.3f}, 组2 p值={p2:.3f}\")\n",
    "print(f\"方差齐性检验p值={p_var:.3f}\")\n",
    "print(f\"选择的检验方法：{test_used}\")\n",
    "print(f\"显著性检验结果：p值={p_value:.3f}\")\n",
    "\n",
    "# 判断显著性\n",
    "alpha = 0.05\n",
    "if p_value < alpha:\n",
    "    print(\"结果显著，拒绝原假设（存在显著差异）\")\n",
    "else:\n",
    "    print(\"结果不显著，无法拒绝原假设\")"
   ]
  },
  {
   "cell_type": "code",
   "execution_count": 63,
   "metadata": {},
   "outputs": [
    {
     "data": {
      "image/png": "[encoded data removed]",
      "text/plain": [
       "<Figure size 750x450 with 2 Axes>"
      ]
     },
     "metadata": {},
     "output_type": "display_data"
    }
   ],
   "source": [
    "from matplotlib import pyplot as plt\n",
    "from seaborn import boxplot\n",
    "\n",
    "fig = plt.figure(dpi=150, figsize=(5,3))\n",
    "\n",
    "ax1 = plt.subplot(1,2,1)\n",
    "bplt = plt.boxplot([rmsd_8, rmsd_32], \n",
    "                   medianprops={\"color\": 'grey', \"linewidth\": 0.75},\n",
    "                   patch_artist=True)\n",
    "for patch, color in zip(bplt['boxes'], ['#EF767B','#43A3EF']):\n",
    "        patch.set(facecolor=color)\n",
    "ax1.set_ylabel('RMSD (Å)')\n",
    "ax1.set_xticklabels(['8', '32'])\n",
    "ax1.set_xlabel('exhaustiveness')\n",
    "\n",
    "ax2 = plt.subplot(1,2,2)\n",
    "bplt = plt.boxplot([rmsd_8, rmsd_32],\n",
    "                    notch=0,\n",
    "                    sym=[],\n",
    "                    vert=True,\n",
    "                    medianprops={\"color\": 'grey', \"linewidth\": 0.75},\n",
    "                    patch_artist=True)\n",
    "for patch, color in zip(bplt['boxes'], ['#EF767B','#43A3EF']):\n",
    "        patch.set(facecolor=color)\n",
    "ax2.set_ylim([-0.1, 1.1])\n",
    "ax2.set_xticklabels(['8', '32'])\n",
    "ax2.set_xlabel('exhaustiveness')\n",
    "\n",
    "plt.tight_layout()"
   ]
  },
  {
   "cell_type": "code",
   "execution_count": 66,
   "metadata": {},
   "outputs": [
    {
     "data": {
      "text/plain": [
       "['5HT2A',\n",
       " 'BCL2',\n",
       " 'BRAF',\n",
       " 'BRD4',\n",
       " 'BTK',\n",
       " 'Beta2AR',\n",
       " 'DRD2',\n",
       " 'HDAC6',\n",
       " 'HIV-RT',\n",
       " 'JAK2',\n",
       " 'MEK1',\n",
       " 'NAMPT',\n",
       " 'PI3K-alpha',\n",
       " 'PPAR-alpha',\n",
       " 'PRMT5',\n",
       " 'ROCK1',\n",
       " 'RXR-alpha',\n",
       " 'TYK2']"
      ]
     },
     "execution_count": 66,
     "metadata": {},
     "output_type": "execute_result"
    }
   ],
   "source": [
    "import pandas as pd\n",
    "\n",
    "tars = [rmsd[0].split('/')[-2] for rmsd in rmsd_list_32]\n",
    "tars"
   ]
  },
  {
   "cell_type": "code",
   "execution_count": 68,
   "metadata": {},
   "outputs": [],
   "source": [
    "di = {'Target': tars,\n",
    "      'exhaust=8': rmsd_8,\n",
    "      'exhaust=32': rmsd_32}\n",
    "pd.DataFrame(di).to_csv('hdf.csv')"
   ]
  }
 ],
 "metadata": {
  "kernelspec": {
   "display_name": "tarpass",
   "language": "python",
   "name": "python3"
  },
  "language_info": {
   "codemirror_mode": {
    "name": "ipython",
    "version": 3
   },
   "file_extension": ".py",
   "mimetype": "text/x-python",
   "name": "python",
   "nbconvert_exporter": "python",
   "pygments_lexer": "ipython3",
   "version": "3.11.8"
  }
 },
 "nbformat": 4,
 "nbformat_minor": 2
}

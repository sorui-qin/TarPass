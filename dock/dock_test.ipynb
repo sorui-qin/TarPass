{
 "cells": [
  {
   "cell_type": "code",
   "execution_count": 1,
   "metadata": {},
   "outputs": [],
   "source": [
    "from meeko import MoleculePreparation\n",
    "from meeko import PDBQTWriterLegacy\n",
    "from rdkit import Chem"
   ]
  },
  {
   "cell_type": "code",
   "execution_count": null,
   "metadata": {},
   "outputs": [
    {
     "data": {
      "image/png": "[encoded data removed]",
      "text/html": [
       "<table><tr><td colspan=\"2\" style=\"text-align: center;\"><image src=\"data:image/png;base64,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\"></td></tr>\n",
       "<tr><th style=\"text-align: right\">i_m_stars</th><td style=\"text-align: left\">0</td></tr>\n",
       "<tr><th style=\"text-align: right\">s_m_entry_id</th><td style=\"text-align: left\">6</td></tr>\n",
       "<tr><th style=\"text-align: right\">s_m_entry_name</th><td style=\"text-align: left\">Structure6</td></tr>\n",
       "<tr><th style=\"text-align: right\">s_pdb_PDB_TITLE</th><td style=\"text-align: left\">CRYSTAL STRUCTURE OF SEROTONIN 2A RECEPTOR IN COMPLEX WITH LISURIDE</td></tr>\n",
       "<tr><th style=\"text-align: right\">s_pdb_PDB_ID</th><td style=\"text-align: left\">7WC7</td></tr>\n",
       "<tr><th style=\"text-align: right\">r_pdb_PDB_CRYST1_a</th><td style=\"text-align: left\">50.08</td></tr>\n",
       "<tr><th style=\"text-align: right\">r_pdb_PDB_CRYST1_b</th><td style=\"text-align: left\">54.51</td></tr>\n",
       "<tr><th style=\"text-align: right\">r_pdb_PDB_CRYST1_c</th><td style=\"text-align: left\">179.04</td></tr>\n",
       "<tr><th style=\"text-align: right\">r_pdb_PDB_CRYST1_alpha</th><td style=\"text-align: left\">90</td></tr>\n",
       "<tr><th style=\"text-align: right\">r_pdb_PDB_CRYST1_beta</th><td style=\"text-align: left\">90</td></tr>\n",
       "<tr><td colspan=\"2\" style=\"text-align: center\">Property list truncated.<br />Increase IPythonConsole.ipython_maxProperties (or set it to -1) to see more properties.</td></tr></table>"
      ],
      "text/plain": [
       "<rdkit.Chem.rdchem.Mol at 0x7401625af8b0>"
      ]
     },
     "execution_count": 3,
     "metadata": {},
     "output_type": "execute_result"
    }
   ],
   "source": [
    "test_sdf = '../Targets/5HT2A/5HT2A_7wc7_ligand_A.sdf'\n",
    "mol = Chem.SDMolSupplier(test_sdf, removeHs=False)[0]\n",
    "mol"
   ]
  },
  {
   "cell_type": "code",
   "execution_count": 6,
   "metadata": {},
   "outputs": [],
   "source": [
    "mk_prep = MoleculePreparation()\n",
    "molsetup_list = mk_prep(mol)\n",
    "molsetup = molsetup_list[0]\n",
    "pdbqt_string = PDBQTWriterLegacy.write_string(molsetup)"
   ]
  },
  {
   "cell_type": "code",
   "execution_count": 9,
   "metadata": {},
   "outputs": [
    {
     "name": "stdout",
     "output_type": "stream",
     "text": [
      "REMARK SMILES CCN(CC)C(=O)N[C@H]1C=C2c3cccc4[nH]cc(c34)C[C@H]2[N@H+](C)C1\n",
      "REMARK SMILES IDX 6 1 8 2 3 3 7 4 2 6 1 7 4 8 5 9 9 10 10 11 25 12 11 13 23 14\n",
      "REMARK SMILES IDX 12 15 22 16 13 17 20 18 21 19 14 20 19 21 16 22 15 23 18 24\n",
      "REMARK SMILES IDX 17 25 24 26\n",
      "REMARK H PARENT 8 5 23 27 17 28\n",
      "ROOT\n",
      "ATOM      1  C   UNL     1     -25.922 -13.778 144.572  1.00  0.00     0.318 C \n",
      "ATOM      2  N   UNL     1     -25.921 -13.501 143.223  1.00  0.00    -0.326 N \n",
      "ATOM      3  N   UNL     1     -24.735 -13.865 145.187  1.00  0.00    -0.325 N \n",
      "ATOM      4  O   UNL     1     -26.998 -13.896 145.246  1.00  0.00    -0.249 OA\n",
      "ATOM      5  H   UNL     1     -25.058 -13.539 142.700  1.00  0.00     0.166 HD\n",
      "ENDROOT\n",
      "BRANCH   3   6\n",
      "ATOM      6  C   UNL     1     -23.492 -13.592 144.457  1.00  0.00     0.118 C \n",
      "ATOM      7  C   UNL     1     -22.918 -12.225 144.798  1.00  0.00     0.027 C \n",
      "ENDBRANCH   3   6\n",
      "BRANCH   3   8\n",
      "ATOM      8  C   UNL     1     -24.646 -14.119 146.634  1.00  0.00     0.118 C \n",
      "ATOM      9  C   UNL     1     -24.624 -15.580 146.947  1.00  0.00     0.027 C \n",
      "ENDBRANCH   3   8\n",
      "BRANCH   2  10\n",
      "ATOM     10  C   UNL     1     -27.152 -13.150 142.525  1.00  0.00     0.162 C \n",
      "ATOM     11  C   UNL     1     -27.569 -11.720 142.876  1.00  0.00     0.014 C \n",
      "ATOM     12  C   UNL     1     -27.039 -13.418 141.000  1.00  0.00     0.292 C \n",
      "ATOM     13  C   UNL     1     -28.211 -10.972 141.982  1.00  0.00     0.016 C \n",
      "ATOM     14  N   UNL     1     -26.888 -12.162 140.254  1.00  0.00    -0.329 N \n",
      "ATOM     15  C   UNL     1     -29.124  -9.860 142.351  1.00  0.00    -0.007 A \n",
      "ATOM     16  C   UNL     1     -28.016 -11.218 140.474  1.00  0.00     0.219 C \n",
      "ATOM     17  C   UNL     1     -29.835  -9.729 143.543  1.00  0.00     0.009 A \n",
      "ATOM     18  C   UNL     1     -29.281  -8.849 141.398  1.00  0.00     0.011 A \n",
      "ATOM     19  C   UNL     1     -27.720  -9.875 139.729  1.00  0.00     0.108 C \n",
      "ATOM     20  C   UNL     1     -30.660  -8.592 143.726  1.00  0.00     0.003 A \n",
      "ATOM     21  C   UNL     1     -28.648  -8.759 140.143  1.00  0.00    -0.016 A \n",
      "ATOM     22  C   UNL     1     -30.079  -7.719 141.594  1.00  0.00     0.046 A \n",
      "ATOM     23  C   UNL     1     -30.791  -7.575 142.780  1.00  0.00     0.027 A \n",
      "ATOM     24  C   UNL     1     -29.086  -7.585 139.585  1.00  0.00     0.087 A \n",
      "ATOM     25  N   UNL     1     -29.942  -6.937 140.478  1.00  0.00    -0.361 N \n",
      "ATOM     26  C   UNL     1     -26.692 -12.469 138.825  1.00  0.00     0.333 C \n",
      "ATOM     27  H   UNL     1     -26.047 -11.712 140.585  1.00  0.00     0.348 HD\n",
      "ATOM     28  H   UNL     1     -30.339  -6.040 140.237  1.00  0.00     0.166 HD\n",
      "ENDBRANCH   2  10\n",
      "TORSDOF 3\n",
      "\n"
     ]
    }
   ],
   "source": [
    "print(pdbqt_string[0])"
   ]
  },
  {
   "cell_type": "code",
   "execution_count": 2,
   "metadata": {},
   "outputs": [
    {
     "data": {
      "text/plain": [
       "0.3989022938013774"
      ]
     },
     "execution_count": 2,
     "metadata": {},
     "output_type": "execute_result"
    }
   ],
   "source": [
    "test_sdf = '../Targets/5HT2A/5HT2A_7wc7_ligand_A.sdf'\n",
    "docked_sdf = '../Targets/5HT2A/redock.sdf'\n",
    "\n",
    "mol = Chem.SDMolSupplier(test_sdf)[0]\n",
    "check = Chem.SDMolSupplier(docked_sdf)[0]\n",
    "Chem.rdMolAlign.CalcRMS(Chem.RemoveHs(check), Chem.RemoveHs(mol)) "
   ]
  },
  {
   "cell_type": "code",
   "execution_count": 16,
   "metadata": {},
   "outputs": [
    {
     "name": "stdout",
     "output_type": "stream",
     "text": [
      "RMSD H8G: 0.398902\n"
     ]
    }
   ],
   "source": [
    "comm = f'''obrms {test_sdf} {docked_sdf}'''\n",
    "\n",
    "!{comm}"
   ]
  },
  {
   "cell_type": "code",
   "execution_count": 6,
   "metadata": {},
   "outputs": [
    {
     "name": "stderr",
     "output_type": "stream",
     "text": [
      "[RDKit] ERROR:[18:54:46] Explicit valence for atom # 13 N, 4, is greater than permitted\n",
      "[RDKit] ERROR:[18:54:46] ERROR: Could not sanitize molecule ending on line 64\n",
      "[RDKit] ERROR:[18:54:46] ERROR: Explicit valence for atom # 13 N, 4, is greater than permitted\n",
      "[RDKit] ERROR:[18:54:46] Explicit valence for atom # 13 N, 4, is greater than permitted\n",
      "[RDKit] ERROR:[18:54:46] ERROR: Could not sanitize molecule ending on line 147\n",
      "[RDKit] ERROR:[18:54:46] ERROR: Explicit valence for atom # 13 N, 4, is greater than permitted\n",
      "[RDKit] ERROR:[18:54:46] Explicit valence for atom # 13 N, 4, is greater than permitted\n",
      "[RDKit] ERROR:[18:54:46] ERROR: Could not sanitize molecule ending on line 230\n",
      "[RDKit] ERROR:[18:54:46] ERROR: Explicit valence for atom # 13 N, 4, is greater than permitted\n",
      "[RDKit] ERROR:[18:54:46] Explicit valence for atom # 13 N, 4, is greater than permitted\n",
      "[RDKit] ERROR:[18:54:46] ERROR: Could not sanitize molecule ending on line 313\n",
      "[RDKit] ERROR:[18:54:46] ERROR: Explicit valence for atom # 13 N, 4, is greater than permitted\n",
      "[RDKit] ERROR:[18:54:46] Explicit valence for atom # 13 N, 4, is greater than permitted\n",
      "[RDKit] ERROR:[18:54:46] ERROR: Could not sanitize molecule ending on line 396\n",
      "[RDKit] ERROR:[18:54:46] ERROR: Explicit valence for atom # 13 N, 4, is greater than permitted\n",
      "[RDKit] ERROR:[18:54:46] Explicit valence for atom # 13 N, 4, is greater than permitted\n",
      "[RDKit] ERROR:[18:54:46] ERROR: Could not sanitize molecule ending on line 479\n",
      "[RDKit] ERROR:[18:54:46] ERROR: Explicit valence for atom # 13 N, 4, is greater than permitted\n"
     ]
    }
   ],
   "source": [
    "for i in Chem.SDMolSupplier(docked_sdf, removeHs=False):\n",
    "    i"
   ]
  }
 ],
 "metadata": {
  "kernelspec": {
   "display_name": "tarpass",
   "language": "python",
   "name": "python3"
  },
  "language_info": {
   "codemirror_mode": {
    "name": "ipython",
    "version": 3
   },
   "file_extension": ".py",
   "mimetype": "text/x-python",
   "name": "python",
   "nbconvert_exporter": "python",
   "pygments_lexer": "ipython3",
   "version": "3.11.8"
  }
 },
 "nbformat": 4,
 "nbformat_minor": 2
}

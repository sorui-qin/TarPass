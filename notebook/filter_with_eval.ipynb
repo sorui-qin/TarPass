{
 "cells": [
  {
   "cell_type": "markdown",
   "id": "9d4adc12",
   "metadata": {},
   "source": [
    "### Filtering Evaluation Results\n",
    "\n",
    "After running the `eval` module of TarPass on a specific model, this notebook can be used to perform stepwise filtering by specifying a particular target and selecting specific evaluation metrics.\n"
   ]
  },
  {
   "cell_type": "code",
   "execution_count": null,
   "id": "665ecddf",
   "metadata": {},
   "outputs": [],
   "source": [
    "from analysis.collect_eval import collect_readable\n",
    "from pathlib import Path\n",
    "import operator\n",
    "\n",
    "ops = {\n",
    "    '>=': operator.ge,\n",
    "    '<=': operator.le,\n",
    "    '>': operator.gt,\n",
    "    '<': operator.lt,\n",
    "    '==': operator.eq,\n",
    "    '!=': operator.ne\n",
    "}"
   ]
  },
  {
   "cell_type": "code",
   "execution_count": null,
   "id": "1ec34540",
   "metadata": {},
   "outputs": [],
   "source": [
    "def filter(value, condition_dict) -> bool:\n",
    "    if value is None:\n",
    "        return False\n",
    "    operator, thres = condition_dict\n",
    "    return ops[operator](value, thres)\n",
    "\n",
    "def filter_stats(results, conditions) -> tuple[list, dict]:\n",
    "    filtered = results.copy()\n",
    "    filter_stats = {}\n",
    "    \n",
    "    for cls, subclses in conditions.items():\n",
    "        filter_stats[cls] = {}\n",
    "        for metrics in subclses.values():\n",
    "            for m in metrics:\n",
    "                filter_stats[cls][m] = 0\n",
    "    \n",
    "    for cls, subclses in conditions.items():\n",
    "        for subcls, metrics in subclses.items():\n",
    "            for metric, condition in metrics.items():\n",
    "                new_filtered = []\n",
    "                \n",
    "                for result in filtered:\n",
    "                    if cls not in result or result[cls] is None:\n",
    "                        new_filtered = filtered\n",
    "                        filter_stats[cls][metric] = len(new_filtered)\n",
    "                        continue\n",
    "                    if subcls not in result[cls]:\n",
    "                        continue\n",
    "                        \n",
    "                    cls_data = result[cls][subcls]\n",
    "                    if metric not in cls_data:\n",
    "                        continue\n",
    "                    \n",
    "                    value = cls_data[metric]\n",
    "                    \n",
    "                    if filter(value, condition):\n",
    "                        new_filtered.append(result)\n",
    "                \n",
    "                filter_stats[cls][metric] = len(new_filtered)\n",
    "                filtered = new_filtered\n",
    "    return filtered, filter_stats"
   ]
  },
  {
   "cell_type": "markdown",
   "id": "942dfae6",
   "metadata": {},
   "source": [
    "#### Specifying Model and Target"
   ]
  },
  {
   "cell_type": "code",
   "execution_count": null,
   "id": "a031974a",
   "metadata": {},
   "outputs": [],
   "source": [
    "model = 'Drugflow'\n",
    "target = 'JAK2'\n",
    "results = collect_readable(Path(f'{model}/{target}/results'))"
   ]
  },
  {
   "cell_type": "markdown",
   "id": "67f868e8",
   "metadata": {},
   "source": [
    "#### Specify Filtering Criteria:\n",
    "\n",
    "Filtering conditions can be provided either via a JSON file in the first two cells below, or directly as a dictionary in the third cell.  \n",
    "Please note that when modifying the custom JSON file, it must strictly follow the format shown in the third cell."
   ]
  },
  {
   "cell_type": "code",
   "execution_count": null,
   "id": "8ec3bae8",
   "metadata": {},
   "outputs": [],
   "source": [
    "# from utils.io import dump_json, load_json\n",
    "\n",
    "# di = {}\n",
    "# for cls in list((r:=results[0]).keys())[1:]:\n",
    "#     di[cls] = {}\n",
    "#     subclses = r[cls]\n",
    "#     for subcls, metrics in subclses.items():\n",
    "#         di[cls][subcls] = {}\n",
    "#         for metric in metrics.keys():\n",
    "#             di[cls][subcls][metric] = ()\n",
    "\n",
    "# dump_json('filter_conditions.json', di)"
   ]
  },
  {
   "cell_type": "code",
   "execution_count": null,
   "id": "6a7df3ef",
   "metadata": {},
   "outputs": [],
   "source": [
    "# # Modify 'filter_conditions.json' to set your filtering conditions\n",
    "# conditions = load_json('filter_conditions.json')"
   ]
  },
  {
   "cell_type": "code",
   "execution_count": null,
   "id": "b064dd13",
   "metadata": {},
   "outputs": [],
   "source": [
    "conditions = {\n",
    "    # Redock results filter\n",
    "    'Dock': {\n",
    "        'numerical': {\n",
    "            'score': ['<=', -8.0],\n",
    "            'fully_matched': ['==', True],\n",
    "        }, \n",
    "        'interactions': {}\n",
    "        },\n",
    "\n",
    "    # Rescore reults filter, which available model is 3D\n",
    "    'Score':{\n",
    "        'numerical': {\n",
    "            'fully_matched': ['==', True]\n",
    "        },\n",
    "        'interactions': {}\n",
    "        },\n",
    "\n",
    "    # Properties filter\n",
    "    'Prop': {\n",
    "        'Structural': {\n",
    "            'all_common': ['==', True],\n",
    "            'completeness': ['==', True],\n",
    "            'largest ring': ['<=', 7],\n",
    "        },\n",
    "        'Descriptors': {\n",
    "            'molwt': ['>=', 250],\n",
    "            'molwt': ['<=', 750],\n",
    "        },\n",
    "        'Alerts': {\n",
    "            'sa_score': ['<=', 4.0],\n",
    "            'qed': ['>=', 0.4],\n",
    "            'lipinski': ['>', 3],\n",
    "            'PAINS_alert': ['==', 0],\n",
    "            'SureChEMBL_alert': ['==', 0],\n",
    "            'Glaxo_alert': ['==', 0]\n",
    "        }\n",
    "        }\n",
    "}"
   ]
  },
  {
   "cell_type": "code",
   "execution_count": null,
   "id": "1a26669a",
   "metadata": {},
   "outputs": [],
   "source": [
    "filtered, stats = filter_stats(results, conditions)"
   ]
  },
  {
   "cell_type": "markdown",
   "id": "e4c3096d",
   "metadata": {},
   "source": [
    "#### Post-processing"
   ]
  },
  {
   "cell_type": "code",
   "execution_count": null,
   "id": "5190a54c",
   "metadata": {},
   "outputs": [],
   "source": [
    "from utils.io import write_pkl\n",
    "write_pkl(f'{model}_{target}_filtered.pkl', filtered)"
   ]
  },
  {
   "cell_type": "code",
   "execution_count": null,
   "id": "fdcbc0d8",
   "metadata": {},
   "outputs": [],
   "source": [
    "import pandas as pd\n",
    "df_di = {'Initial': len(results)}\n",
    "for cls, subclses in stats.items():\n",
    "    for metric, count in subclses.items():\n",
    "        df_di[f'{cls}-{metric}'] = count\n",
    "df = pd.DataFrame.from_dict(df_di, orient='index', columns=[model])\n",
    "# df.to_csv(f'{model}_{target}_filter_stats.csv')\n",
    "df"
   ]
  },
  {
   "cell_type": "code",
   "execution_count": null,
   "id": "ea3f16a6",
   "metadata": {},
   "outputs": [],
   "source": [
    "import matplotlib.pyplot as plt\n",
    "import seaborn as sns\n",
    "\n",
    "sns.set_style(\"whitegrid\")\n",
    "plt.figure(figsize=(12, 6), dpi=600)\n",
    "\n",
    "ax = sns.lineplot(x=range(len(df)),\n",
    "                  y=df[model],\n",
    "                  marker='o',\n",
    "                  linewidth=2.5,\n",
    "                  markersize=8)\n",
    "\n",
    "ax.set_xticks(range(len(df)))\n",
    "ax.set_xticklabels(df.index, rotation=45, ha='right')\n",
    "\n",
    "plt.xlabel('Filter Criteria (Applied Sequentially)', fontsize=12)\n",
    "plt.ylabel('Remaining Compounds', fontsize=12)\n",
    "plt.ylim(0, 1025)\n",
    "\n",
    "for i, v in enumerate(df[model]):\n",
    "    plt.annotate(f'{v}', (i, v), textcoords=\"offset points\", \n",
    "                xytext=(0,10), ha='center', fontsize=9, fontweight='bold')\n",
    "\n",
    "plt.legend([model])\n",
    "plt.tight_layout()"
   ]
  }
 ],
 "metadata": {
  "kernelspec": {
   "display_name": "tarpass",
   "language": "python",
   "name": "python3"
  },
  "language_info": {
   "codemirror_mode": {
    "name": "ipython",
    "version": 3
   },
   "file_extension": ".py",
   "mimetype": "text/x-python",
   "name": "python",
   "nbconvert_exporter": "python",
   "pygments_lexer": "ipython3",
   "version": "3.11.13"
  }
 },
 "nbformat": 4,
 "nbformat_minor": 5
}

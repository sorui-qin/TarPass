{
 "cells": [
  {
   "cell_type": "code",
   "execution_count": null,
   "id": "fda5690d",
   "metadata": {},
   "outputs": [],
   "source": [
    "from pathlib import Path\n",
    "from Bio.PDB import PDBParser, PDBIO, NeighborSearch\n",
    "from Bio.PDB import Selection\n",
    "from utils.docking import sdf2centroid"
   ]
  },
  {
   "cell_type": "code",
   "execution_count": null,
   "id": "50d08dac",
   "metadata": {},
   "outputs": [],
   "source": [
    "def extract_res(pdb_file, center:list, threshold=10.0):\n",
    "    parser = PDBParser(QUIET=True)\n",
    "    structure = parser.get_structure('retract', pdb_file)\n",
    "\n",
    "    atoms = Selection.unfold_entities(structure, 'A')\n",
    "    ns = NeighborSearch(atoms)\n",
    "\n",
    "    nearby_residues = set()\n",
    "    \n",
    "    for atom in ns.search(center, threshold):\n",
    "        nearby_residues.add(atom.get_parent())\n",
    "\n",
    "    # Create a new structure with only the nearby residues\n",
    "    new_structure = structure.copy()\n",
    "    for model in new_structure:\n",
    "        for chain in model:\n",
    "            for residue in list(chain):\n",
    "                if residue not in nearby_residues:\n",
    "                    chain.detach_child(residue.id)\n",
    "\n",
    "    output_file = pdb_file.replace('.pdb', '_pocket10.pdb')\n",
    "    io = PDBIO()\n",
    "    io.set_structure(new_structure)\n",
    "    io.save(str(output_file))\n",
    "    print(f\"Saved {output_file}\")"
   ]
  },
  {
   "cell_type": "code",
   "execution_count": null,
   "id": "aab91d33",
   "metadata": {},
   "outputs": [],
   "source": [
    "center = sdf2centroid('../../Targets/BRD4/BRD4_8pxa_ligand_A.sdf')\n",
    "pdb_file = '../../Targets/BRD4/BRD4_8pxa_rec_A.pdb'\n",
    "extract_res(pdb_file, center)"
   ]
  }
 ],
 "metadata": {
  "kernelspec": {
   "display_name": "tarpass",
   "language": "python",
   "name": "python3"
  },
  "language_info": {
   "codemirror_mode": {
    "name": "ipython",
    "version": 3
   },
   "file_extension": ".py",
   "mimetype": "text/x-python",
   "name": "python",
   "nbconvert_exporter": "python",
   "pygments_lexer": "ipython3",
   "version": "3.11.8"
  }
 },
 "nbformat": 4,
 "nbformat_minor": 5
}

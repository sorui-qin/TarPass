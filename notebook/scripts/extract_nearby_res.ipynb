{
 "cells": [
  {
   "cell_type": "code",
   "execution_count": null,
   "id": "fda5690d",
   "metadata": {},
   "outputs": [],
   "source": [
    "from pathlib import Path\n",
    "from Bio.PDB import PDBParser, PDBIO, NeighborSearch\n",
    "from Bio.PDB import Selection\n",
    "from utils.docking import sdf2centroid"
   ]
  },
  {
   "cell_type": "code",
   "execution_count": 39,
   "id": "50d08dac",
   "metadata": {},
   "outputs": [],
   "source": [
    "def extract_res(pdb_file, center:list, threshold=10.0):\n",
    "    parser = PDBParser(QUIET=True)\n",
    "    structure = parser.get_structure('retract', pdb_file)\n",
    "\n",
    "    atoms = Selection.unfold_entities(structure, 'A')\n",
    "    ns = NeighborSearch(atoms)\n",
    "\n",
    "    nearby_residues = set()\n",
    "    \n",
    "    for atom in ns.search(center, threshold):\n",
    "        nearby_residues.add(atom.get_parent())\n",
    "\n",
    "    # Create a new structure with only the nearby residues\n",
    "    new_structure = structure.copy()\n",
    "    for model in new_structure:\n",
    "        for chain in model:\n",
    "            for residue in list(chain):\n",
    "                if residue not in nearby_residues:\n",
    "                    chain.detach_child(residue.id)\n",
    "\n",
    "    output_file = Path(pdb_file).with_suffix('.pocket10.pdb')\n",
    "    io = PDBIO()\n",
    "    io.set_structure(new_structure)\n",
    "    io.save(str(output_file))\n",
    "    print(f\"Saved {output_file}\")"
   ]
  },
  {
   "cell_type": "code",
   "execution_count": 40,
   "id": "cb81038a",
   "metadata": {},
   "outputs": [
    {
     "name": "stdout",
     "output_type": "stream",
     "text": [
      "Processing ../../data/clean_targets/NAMPT/NAMPT_7ppe_rec_A.pdb\n",
      "Saved ../../data/clean_targets/NAMPT/NAMPT_7ppe_rec_A.pocket10.pdb\n",
      "Processing ../../data/clean_targets/PRMT5/PRMT5_7s1s_rec_A_empty.pdb\n",
      "Saved ../../data/clean_targets/PRMT5/PRMT5_7s1s_rec_A_empty.pocket10.pdb\n",
      "Processing ../../data/clean_targets/JAK2/JAK2_8bm2_rec_A.pdb\n",
      "Saved ../../data/clean_targets/JAK2/JAK2_8bm2_rec_A.pocket10.pdb\n",
      "Processing ../../data/clean_targets/5HT2A-AF/5HT2A-AF_P28223-F1-model_v4_rec_A.pdb\n",
      "Saved ../../data/clean_targets/5HT2A-AF/5HT2A-AF_P28223-F1-model_v4_rec_A.pocket10.pdb\n",
      "Processing ../../data/clean_targets/ROCK1/ROCK1_7jou_rec_A.pdb\n",
      "Saved ../../data/clean_targets/ROCK1/ROCK1_7jou_rec_A.pocket10.pdb\n",
      "Processing ../../data/clean_targets/TYK2/TYK2_8tb5_rec_A.pdb\n",
      "Saved ../../data/clean_targets/TYK2/TYK2_8tb5_rec_A.pocket10.pdb\n",
      "Processing ../../data/clean_targets/BRD4-holo/BRD4-holo_2oss_rec_A.pdb\n",
      "Saved ../../data/clean_targets/BRD4-holo/BRD4-holo_2oss_rec_A.pocket10.pdb\n",
      "Processing ../../data/clean_targets/PI3K-alpha/PI3K-alpha_7pg6_rec_A.pdb\n",
      "Saved ../../data/clean_targets/PI3K-alpha/PI3K-alpha_7pg6_rec_A.pocket10.pdb\n",
      "Processing ../../data/clean_targets/BCL2/BCL2_8hts_rec_A.pdb\n",
      "Saved ../../data/clean_targets/BCL2/BCL2_8hts_rec_A.pocket10.pdb\n",
      "Processing ../../data/clean_targets/RXR-alpha/RXR-alpha_8pp0_rec_A.pdb\n",
      "Saved ../../data/clean_targets/RXR-alpha/RXR-alpha_8pp0_rec_A.pocket10.pdb\n",
      "Processing ../../data/clean_targets/5HT2A/5HT2A_7wc7_rec_A.pdb\n",
      "Saved ../../data/clean_targets/5HT2A/5HT2A_7wc7_rec_A.pocket10.pdb\n",
      "Processing ../../data/clean_targets/PPAR-alpha/PPAR-alpha_6kay_rec_A.pdb\n",
      "Saved ../../data/clean_targets/PPAR-alpha/PPAR-alpha_6kay_rec_A.pocket10.pdb\n",
      "Processing ../../data/clean_targets/DRD2/DRD2_7dfp_rec_A.pdb\n",
      "Saved ../../data/clean_targets/DRD2/DRD2_7dfp_rec_A.pocket10.pdb\n",
      "Processing ../../data/clean_targets/HIV-RT/HIV-RT_8fcd_rec_full.pdb\n",
      "Saved ../../data/clean_targets/HIV-RT/HIV-RT_8fcd_rec_full.pocket10.pdb\n",
      "Processing ../../data/clean_targets/BRD4/BRD4_8pxa_rec_A.pdb\n",
      "Saved ../../data/clean_targets/BRD4/BRD4_8pxa_rec_A.pocket10.pdb\n",
      "Processing ../../data/clean_targets/BRAF/BRAF_6xfp_rec_A.pdb\n",
      "Saved ../../data/clean_targets/BRAF/BRAF_6xfp_rec_A.pocket10.pdb\n",
      "Processing ../../data/clean_targets/Beta2AR/Beta2AR_8jjl_rec_A.pdb\n",
      "Saved ../../data/clean_targets/Beta2AR/Beta2AR_8jjl_rec_A.pocket10.pdb\n",
      "Processing ../../data/clean_targets/BTK/BTK_8fll_rec_A.pdb\n",
      "Saved ../../data/clean_targets/BTK/BTK_8fll_rec_A.pocket10.pdb\n",
      "Processing ../../data/clean_targets/HDAC6/HDAC6_8bjk_rec_A.pdb\n",
      "Saved ../../data/clean_targets/HDAC6/HDAC6_8bjk_rec_A.pocket10.pdb\n",
      "Processing ../../data/clean_targets/MEK1/MEK1_7m0y_rec_B_empty.pdb\n",
      "Saved ../../data/clean_targets/MEK1/MEK1_7m0y_rec_B_empty.pocket10.pdb\n"
     ]
    }
   ],
   "source": [
    "for pok in Path('../../data/clean_targets').glob('*/'):\n",
    "    pdb = next(pok.glob('*.pdb'))\n",
    "    print(f\"Processing {pdb}\")\n",
    "\n",
    "    # Extract the center from the SDF file\n",
    "    try:\n",
    "        sdf = next(pok.glob('*.sdf'))\n",
    "        center = sdf2centroid(sdf)\n",
    "    except StopIteration:\n",
    "        import json\n",
    "        center = json.loads(\n",
    "            Path(f\"../../Targets/{pok.name}/center.json\").read_text()\n",
    "            )[\"center\"]\n",
    "    extract_res(pdb, center)"
   ]
  }
 ],
 "metadata": {
  "kernelspec": {
   "display_name": "tarpass",
   "language": "python",
   "name": "python3"
  },
  "language_info": {
   "codemirror_mode": {
    "name": "ipython",
    "version": 3
   },
   "file_extension": ".py",
   "mimetype": "text/x-python",
   "name": "python",
   "nbconvert_exporter": "python",
   "pygments_lexer": "ipython3",
   "version": "3.11.8"
  }
 },
 "nbformat": 4,
 "nbformat_minor": 5
}

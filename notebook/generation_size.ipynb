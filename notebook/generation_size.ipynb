{
 "cells": [
  {
   "cell_type": "markdown",
   "metadata": {},
   "source": [
    "#### 确定生成分子的数量\n",
    "受到参考文献的启发，我们基于多样性指标，研究合适的生成分子数量。即当生成分子的多样性大致收敛时，便为生成上限。\n",
    "\n",
    "#### Determine the size of molecules to be generated\n",
    "Inspired by the refenece, we study the appropriate number of generated molecules based on diversity. Specifically, when the diversity of the generated molecules approximately converges, it serves as the upper limit for generation.\n",
    "\n",
    "#### Reference\n",
    "```\n",
    "Özçelik, R., & Grisoni, F. (2024). The Jungle of Generative Drug Discovery: Traps, Treasures, and Ways Out. ArXiv, abs/2501.05457.\n",
    "```"
   ]
  },
  {
   "cell_type": "code",
   "execution_count": 2,
   "metadata": {},
   "outputs": [],
   "source": [
    "import numpy as np\n",
    "from utils.io import read_sdf, standard_mol\n",
    "from eval.similarity import Similarity\n",
    "from utils.logger import project_logger\n",
    "from pathlib import Path\n",
    "from tqdm import tqdm\n",
    "from tqdm.contrib.concurrent import process_map\n",
    "import matplotlib.pyplot as plt\n",
    "import seaborn as sns\n",
    "from scipy.ndimage import gaussian_filter1d\n",
    "\n",
    "from rdkit import RDLogger\n",
    "RDLogger.DisableLog('rdApp.*')"
   ]
  },
  {
   "cell_type": "markdown",
   "metadata": {},
   "source": [
    "- 由于多样性在生成数量较少的分子时变化较大，因此我们采用指数衰减加权随机采样，对前期生成的分子较多地采样，而后期则减少采样。  \n",
    "- Since diversity varies significantly when generating a smaller number of molecules, we employ exponentially decaying weighted random sampling to sample more initially generated molecules as possible, while reducing sampling in the later stages."
   ]
  },
  {
   "cell_type": "code",
   "execution_count": 3,
   "metadata": {},
   "outputs": [
    {
     "data": {
      "text/plain": [
       "array([    1,    51,    85,   116,   146,   164,   251,   319,   368,\n",
       "         415,   458,   491,   496,   545,   584,   732,   841,   844,\n",
       "         886,   888,   913,  1114,  1145,  1379,  1414,  1484,  1664,\n",
       "        1757,  1786,  1809,  1939,  2178,  2214,  2229,  2268,  2294,\n",
       "        2627,  2784,  2969,  3169,  3682,  3944,  4248,  4747,  5579,\n",
       "        6702,  6768,  7388,  7598, 10000])"
      ]
     },
     "execution_count": 3,
     "metadata": {},
     "output_type": "execute_result"
    }
   ],
   "source": [
    "def generate_indices(total_samples=10000, n_samples=48, alpha=4):\n",
    "    np.random.seed(42)\n",
    "\n",
    "    indices = np.arange(total_samples)\n",
    "\n",
    "    weights = np.exp(-alpha * indices / total_samples)\n",
    "    weights /= weights.sum() \n",
    "    sampled_indices = np.random.choice(\n",
    "        indices, \n",
    "        size=n_samples, \n",
    "        replace=False, \n",
    "        p=weights,\n",
    "    )\n",
    "    return np.sort(sampled_indices)\n",
    "\n",
    "indices = generate_indices()\n",
    "indices = np.insert(indices, 0, 1)\n",
    "indices = np.append(indices, 10000)\n",
    "indices"
   ]
  },
  {
   "cell_type": "code",
   "execution_count": 4,
   "metadata": {},
   "outputs": [],
   "source": [
    "def read_in(path):\n",
    "    mols = []\n",
    "    for sdffile in Path(path).glob('*.sdf'):\n",
    "        mols.extend(read_sdf(sdffile))\n",
    "\n",
    "    total_num = len(mols)\n",
    "    valids = process_map(standard_mol, mols, chunksize=1000)\n",
    "    valids = [mol for mol in valids if mol]\n",
    "    valid_num = len(valids)\n",
    "    project_logger.info(f'Load {total_num} molecules from {path}, {valid_num} of them is valid.')\n",
    "    return valids\n",
    "\n",
    "def intdiv(valids, indices=indices):\n",
    "    simis = []\n",
    "    for idx in tqdm(indices):\n",
    "        simi = Similarity(mols=valids[:idx])\n",
    "        simis.append(simi.similarity())\n",
    "    intdiv = [1-sim for sim in simis]\n",
    "    return intdiv"
   ]
  },
  {
   "cell_type": "code",
   "execution_count": 5,
   "metadata": {},
   "outputs": [
    {
     "name": "stderr",
     "output_type": "stream",
     "text": [
      "100%|██████████| 10752/10752 [00:00<00:00, 15379.11it/s]\n"
     ]
    },
    {
     "name": "stdout",
     "output_type": "stream",
     "text": [
      "INFO: Load 10752 molecules from ../testfile/DiffSBDD/5HT2A, 10489 of them is valid.\n"
     ]
    },
    {
     "name": "stderr",
     "output_type": "stream",
     "text": [
      "100%|██████████| 50/50 [01:55<00:00,  2.32s/it]\n"
     ]
    }
   ],
   "source": [
    "ht2a = intdiv(read_in('../testfile/DiffSBDD/5HT2A'))"
   ]
  },
  {
   "cell_type": "code",
   "execution_count": 6,
   "metadata": {},
   "outputs": [
    {
     "name": "stderr",
     "output_type": "stream",
     "text": [
      "100%|██████████| 10752/10752 [00:00<00:00, 20032.38it/s]\n"
     ]
    },
    {
     "name": "stdout",
     "output_type": "stream",
     "text": [
      "INFO: Load 10752 molecules from ../testfile/DiffSBDD/BTK, 10485 of them is valid.\n"
     ]
    },
    {
     "name": "stderr",
     "output_type": "stream",
     "text": [
      "100%|██████████| 50/50 [01:52<00:00,  2.25s/it]\n"
     ]
    }
   ],
   "source": [
    "btk = intdiv(read_in('../testfile/DiffSBDD/BTK'))"
   ]
  },
  {
   "cell_type": "code",
   "execution_count": 7,
   "metadata": {},
   "outputs": [
    {
     "name": "stderr",
     "output_type": "stream",
     "text": [
      "100%|██████████| 11264/11264 [00:00<00:00, 17827.51it/s]\n"
     ]
    },
    {
     "name": "stdout",
     "output_type": "stream",
     "text": [
      "INFO: Load 11264 molecules from ../testfile/DiffSBDD/NAMPT, 10981 of them is valid.\n"
     ]
    },
    {
     "name": "stderr",
     "output_type": "stream",
     "text": [
      "100%|██████████| 50/50 [01:50<00:00,  2.20s/it]\n"
     ]
    }
   ],
   "source": [
    "nampt = intdiv(read_in('../testfile/DiffSBDD/NAMPT'))"
   ]
  },
  {
   "cell_type": "code",
   "execution_count": 8,
   "metadata": {},
   "outputs": [],
   "source": [
    "# Smooth with Gaussian Filter (sigma=2)\n",
    "def smooth(data):\n",
    "    return gaussian_filter1d(data, sigma=2)\n",
    "\n",
    "ht2a_sm = smooth(ht2a)\n",
    "btk_sm = smooth(btk)\n",
    "nampt_sm = smooth(nampt)"
   ]
  },
  {
   "cell_type": "code",
   "execution_count": 15,
   "metadata": {},
   "outputs": [
    {
     "data": {
      "text/plain": [
       "<Axes: >"
      ]
     },
     "execution_count": 15,
     "metadata": {},
     "output_type": "execute_result"
    },
    {
     "data": {
      "image/png": "[encoded data removed]",
      "text/plain": [
       "<Figure size 960x720 with 1 Axes>"
      ]
     },
     "metadata": {},
     "output_type": "display_data"
    }
   ],
   "source": [
    "fig, ax = plt.subplots(dpi=150)\n",
    "sns.lineplot(x=indices[:25], y=ht2a_sm[:25], label=\"5HT2A\")\n",
    "sns.lineplot(x=indices[:25], y=btk_sm[:25], label=\"BTK\")\n",
    "sns.lineplot(x=indices[:25], y=nampt_sm[:25], label=\"NMAPT\")"
   ]
  }
 ],
 "metadata": {
  "kernelspec": {
   "display_name": "tarpass",
   "language": "python",
   "name": "python3"
  },
  "language_info": {
   "codemirror_mode": {
    "name": "ipython",
    "version": 3
   },
   "file_extension": ".py",
   "mimetype": "text/x-python",
   "name": "python",
   "nbconvert_exporter": "python",
   "pygments_lexer": "ipython3",
   "version": "3.11.8"
  }
 },
 "nbformat": 4,
 "nbformat_minor": 2
}

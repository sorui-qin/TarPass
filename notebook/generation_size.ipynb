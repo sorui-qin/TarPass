{
 "cells": [
  {
   "cell_type": "markdown",
   "metadata": {},
   "source": [
    "#### 确定生成分子的数量\n",
    "受到参考文献的启发，我们基于多样性指标，研究合适的生成分子数量。即当生成分子的多样性大致收敛时，便为生成上限。\n",
    "\n",
    "#### Determine the size of molecules to be generated\n",
    "Inspired by the refenece, we study the appropriate number of generated molecules based on diversity. Specifically, when the diversity of the generated molecules approximately converges, it serves as the upper limit for generation.\n",
    "\n",
    "#### Reference\n",
    "```\n",
    "Özçelik, R., & Grisoni, F. (2024). The Jungle of Generative Drug Discovery: Traps, Treasures, and Ways Out. ArXiv, abs/2501.05457.\n",
    "```"
   ]
  },
  {
   "cell_type": "code",
   "execution_count": null,
   "metadata": {},
   "outputs": [],
   "source": [
    "from utils.io import *\n",
    "from utils.preprocess import *\n",
    "from eval.similarity import Similarity\n",
    "from pathlib import Path\n",
    "from tqdm import tqdm\n",
    "from tqdm.contrib.concurrent import process_map\n",
    "from scipy.ndimage import gaussian_filter1d\n",
    "import matplotlib.pyplot as plt\n",
    "import seaborn as sns\n",
    "import numpy as np\n",
    "\n",
    "from rdkit import RDLogger\n",
    "RDLogger.DisableLog('rdApp.*')"
   ]
  },
  {
   "cell_type": "markdown",
   "metadata": {},
   "source": [
    "- 由于多样性在生成数量较少的分子时变化较大，因此我们采用指数衰减加权随机采样，对前期生成的分子较多地采样，而后期则减少采样。  \n",
    "- Since diversity varies significantly when generating a smaller number of molecules, we employ exponentially decaying weighted random sampling to sample more initially generated molecules as possible, while reducing sampling in the later stages."
   ]
  },
  {
   "cell_type": "code",
   "execution_count": null,
   "metadata": {},
   "outputs": [],
   "source": [
    "def generate_indices(total_samples=10000, n_samples=48, alpha=4):\n",
    "    np.random.seed(42)\n",
    "\n",
    "    indices = np.arange(total_samples)\n",
    "\n",
    "    weights = np.exp(-alpha * indices / total_samples)\n",
    "    weights /= weights.sum() \n",
    "    sampled_indices = np.random.choice(\n",
    "        indices, \n",
    "        size=n_samples, \n",
    "        replace=False, \n",
    "        p=weights,\n",
    "    )\n",
    "    return np.sort(sampled_indices)\n",
    "\n",
    "indices = generate_indices()\n",
    "indices = np.insert(indices, 0, 1)\n",
    "indices = np.append(indices, 10000)\n",
    "indices"
   ]
  },
  {
   "cell_type": "code",
   "execution_count": null,
   "metadata": {},
   "outputs": [],
   "source": [
    "def read_in(path):\n",
    "    mols = []\n",
    "    for sdffile in Path(path).glob('*.sdf'):\n",
    "        mols.extend(read_sdf(sdffile))\n",
    "    uniques = Preprocess(mols).unique()\n",
    "    return to_mols(uniques[0])\n",
    "\n",
    "def intdiv(mols, indices=indices):\n",
    "    simis = []\n",
    "    for idx in tqdm(indices):\n",
    "        simi = Similarity(mols[:idx])\n",
    "        simis.append(simi.similarity())\n",
    "    intdiv = [1-sim for sim in simis]\n",
    "    return intdiv\n",
    "\n",
    "def sca_intdiv(mols, indices=indices):\n",
    "    simis = []\n",
    "    for idx in tqdm(indices):\n",
    "        simi = Similarity(mols[:idx])\n",
    "        simis.append(simi.scaffold_similarity())\n",
    "    intdiv = [1-sim for sim in simis]\n",
    "    return intdiv\n",
    "\n",
    "def circle(mols, indices=indices):\n",
    "    circles = []\n",
    "    for idx in tqdm(indices):\n",
    "        simi =  Similarity(mols[:idx])\n",
    "        circles.append(simi.circle())\n",
    "    return circles\n",
    "\n",
    "# Smooth with Gaussian Filter (sigma=2)\n",
    "def smooth(data):\n",
    "    return gaussian_filter1d(data, sigma=2)"
   ]
  },
  {
   "cell_type": "code",
   "execution_count": null,
   "metadata": {},
   "outputs": [],
   "source": [
    "ht2a_mols = read_in('../testfile/DiffSBDD/5HT2A')\n",
    "btk_mols = read_in('../testfile/DiffSBDD/BTK')\n",
    "nampt_mols = read_in('../testfile/DiffSBDD/NAMPT')"
   ]
  },
  {
   "cell_type": "code",
   "execution_count": null,
   "metadata": {},
   "outputs": [],
   "source": [
    "nampt_mols"
   ]
  },
  {
   "cell_type": "markdown",
   "metadata": {},
   "source": [
    "#### Reference-based diversity"
   ]
  },
  {
   "cell_type": "code",
   "execution_count": null,
   "metadata": {},
   "outputs": [],
   "source": [
    "def refer_div(valids, ref_mol, indices=indices):\n",
    "    simis = []\n",
    "    for idx in tqdm(indices):\n",
    "        simi = Similarity(mols=valids[:idx], ref_mols=[ref_mol], compared_mode=True)\n",
    "        simis.append(simi.similarity())\n",
    "    return [1-sim for sim in simis]"
   ]
  },
  {
   "cell_type": "code",
   "execution_count": null,
   "metadata": {},
   "outputs": [],
   "source": [
    "ht2a_ref = read_sdf('../Targets/5HT2A/5HT2A_7wc7_ligand_A.sdf')\n",
    "btk_ref = read_sdf('../Targets/BTK/BTK_8fll_ligand_A.sdf')\n",
    "nampt_ref = read_sdf('../Targets/NAMPT/NAMPT_7ppe_ligand_A.sdf')"
   ]
  },
  {
   "cell_type": "code",
   "execution_count": null,
   "metadata": {},
   "outputs": [],
   "source": [
    "ht2a_refdiv = refer_div(ht2a_mols, ht2a_ref)\n",
    "btk_refdiv = refer_div(btk_mols, btk_ref)\n",
    "nampt_refdiv = refer_div(nampt_mols, nampt_ref)"
   ]
  },
  {
   "cell_type": "code",
   "execution_count": null,
   "metadata": {},
   "outputs": [],
   "source": [
    "fig = plt.figure(dpi=150)\n",
    "\n",
    "ax1 = plt.subplot(1, 1, 1)\n",
    "sns.lineplot(x=indices, y=ht2a_refdiv, label=\"5HT2A\")\n",
    "sns.lineplot(x=indices, y=btk_refdiv, label=\"BTK\")\n",
    "sns.lineplot(x=indices, y=nampt_refdiv, label=\"NMAPT\")\n",
    "ax1.set_xscale('log')\n",
    "ax1.set_ylim(0.909, 0.951)\n",
    "ax1.set_ylabel('Reference Div')\n",
    "ax1.set_xlabel('Generated Size')"
   ]
  },
  {
   "cell_type": "markdown",
   "metadata": {},
   "source": [
    "#### Internal Diversity"
   ]
  },
  {
   "cell_type": "code",
   "execution_count": null,
   "metadata": {},
   "outputs": [],
   "source": [
    "ht2a = intdiv(ht2a_mols)\n",
    "btk = intdiv(btk_mols)\n",
    "nampt = intdiv(nampt_mols)"
   ]
  },
  {
   "cell_type": "code",
   "execution_count": null,
   "metadata": {},
   "outputs": [],
   "source": [
    "ht2a_sca = sca_intdiv(ht2a_mols)\n",
    "btk_sca = sca_intdiv(btk_mols)\n",
    "nampt_sca = sca_intdiv(nampt_mols)"
   ]
  },
  {
   "cell_type": "code",
   "execution_count": null,
   "metadata": {},
   "outputs": [],
   "source": [
    "fig = plt.figure(dpi=150, figsize=(8, 4))\n",
    "\n",
    "ax1 = plt.subplot(1, 2, 1)\n",
    "sns.lineplot(x=indices, y=ht2a , label=\"5HT2A\")\n",
    "sns.lineplot(x=indices, y=btk , label=\"BTK\")\n",
    "sns.lineplot(x=indices, y=nampt, label=\"NMAPT\")\n",
    "ax1.set_xscale('log')\n",
    "ax1.set_ylim(-0.05, 1.05)\n",
    "ax1.set_ylabel('IntDiv')\n",
    "ax1.set_xlabel('Generated Size')\n",
    "\n",
    "ax2 = plt.subplot(1, 2, 2)\n",
    "sns.lineplot(x=indices, y=ht2a_sca , label=\"5HT2A\")\n",
    "sns.lineplot(x=indices, y=btk_sca , label=\"BTK\")\n",
    "sns.lineplot(x=indices, y=nampt_sca, label=\"NMAPT\")\n",
    "ax2.set_xscale('log')\n",
    "ax2.set_ylim(-0.05, 1.05)\n",
    "ax2.set_ylabel('Scaffold IntDiv')\n",
    "ax2.set_xlabel('Generated Size')\n",
    "\n",
    "plt.tight_layout()"
   ]
  },
  {
   "cell_type": "markdown",
   "metadata": {},
   "source": [
    "#### #Circle"
   ]
  },
  {
   "cell_type": "code",
   "execution_count": null,
   "metadata": {},
   "outputs": [],
   "source": [
    "cir_ht2a = circle(read_in('../testfile/DiffSBDD/5HT2A'))\n",
    "cir_btk = circle(read_in('../testfile/DiffSBDD/BTK'))\n",
    "cir_nampt = circle(read_in('../testfile/DiffSBDD/NAMPT'))"
   ]
  },
  {
   "cell_type": "code",
   "execution_count": null,
   "metadata": {},
   "outputs": [],
   "source": [
    "#fig = plt.subplots(dpi=150, figsize=(10, 5))\n",
    "\n",
    "plt.figure(dpi=150, figsize=(8, 4))\n",
    "\n",
    "ax1 = plt.subplot(1, 2, 1)\n",
    "sns.lineplot(x=indices, y=cir_ht2a, label=\"5HT2A\")\n",
    "sns.lineplot(x=indices, y=cir_btk, label=\"BTK\")\n",
    "sns.lineplot(x=indices, y=cir_nampt, label=\"NMAPT\")\n",
    "ax1.set_xscale('log')\n",
    "ax1.set_yscale('log')\n",
    "ax1.set_ylim(0.875, 12500)\n",
    "ax1.set_ylabel('#Circle')\n",
    "ax1.set_xlabel('Generated Size')\n",
    "\n",
    "ax2 = plt.subplot(1, 2, 2)\n",
    "sns.lineplot(x=indices, y=cir_ht2a/indices, label=\"5HT2A\")\n",
    "sns.lineplot(x=indices, y=cir_btk/indices, label=\"BTK\")\n",
    "sns.lineplot(x=indices, y=cir_nampt/indices, label=\"NMAPT\")\n",
    "ax2.set_xscale('log')\n",
    "ax2.set_ylabel('Aver #Circle')\n",
    "ax2.set_xlabel('Generated Size')\n",
    "\n",
    "plt.tight_layout()"
   ]
  },
  {
   "cell_type": "markdown",
   "metadata": {},
   "source": [
    "#### Fragments Diversity\n",
    "Calculate with ECFP4"
   ]
  },
  {
   "cell_type": "code",
   "execution_count": null,
   "metadata": {},
   "outputs": [],
   "source": [
    "from utils.measure import morgan_frags\n",
    "def frag_diversity(mols):\n",
    "    all_frags =  process_map(morgan_frags, mols, chunksize=1000, disable=True)\n",
    "    unique = np.unique([frag for frags in all_frags for frag in frags])\n",
    "    return unique.shape[0]\n",
    "\n",
    "def check_frag(mols, indices=indices):\n",
    "    div = []\n",
    "    for idx in tqdm(indices):\n",
    "        frag_num = frag_diversity(mols[:idx])\n",
    "        div.append(frag_num)\n",
    "    return div"
   ]
  },
  {
   "cell_type": "code",
   "execution_count": null,
   "metadata": {},
   "outputs": [],
   "source": [
    "ht2a_frag = check_frag(ht2a_mols)\n",
    "btk_frag = check_frag(btk_mols)\n",
    "nampt_frag = check_frag(nampt_mols)"
   ]
  },
  {
   "cell_type": "code",
   "execution_count": null,
   "metadata": {},
   "outputs": [],
   "source": [
    "fig = plt.figure(dpi=150, figsize=(8, 4))\n",
    "\n",
    "ax1 = plt.subplot(1, 2, 1)\n",
    "sns.lineplot(x=indices, y=ht2a_frag , label=\"5HT2A\")\n",
    "sns.lineplot(x=indices, y=btk_frag , label=\"BTK\")\n",
    "sns.lineplot(x=indices, y=nampt_frag, label=\"NMAPT\")\n",
    "#ax1.set_xscale('log')\n",
    "#ax1.set_yscale('log')\n",
    "ax1.set_ylabel('Fragments Div')\n",
    "ax1.set_xlabel('Generated Size')\n",
    "\n",
    "ax2 = plt.subplot(1, 2, 2)\n",
    "sns.lineplot(x=indices, y=ht2a_frag , label=\"5HT2A\")\n",
    "sns.lineplot(x=indices, y=btk_frag , label=\"BTK\")\n",
    "sns.lineplot(x=indices, y=nampt_frag, label=\"NMAPT\")\n",
    "ax2.set_xscale('log')\n",
    "ax2.set_yscale('log')\n",
    "ax1.set_ylabel('Fragments Div')\n",
    "ax2.set_xlabel('Generated Size')"
   ]
  },
  {
   "cell_type": "markdown",
   "metadata": {},
   "source": [
    "#### Single Sphere exclusion clustering\n",
    "Adapted from [This blog](https://greglandrum.github.io/rdkit-blog/posts/2020-11-18-sphere-exclusion-clustering.html)."
   ]
  },
  {
   "cell_type": "code",
   "execution_count": null,
   "metadata": {},
   "outputs": [],
   "source": [
    "from rdkit.SimDivFilters import rdSimDivPickers\n",
    "lp = rdSimDivPickers.LeaderPicker()"
   ]
  },
  {
   "cell_type": "code",
   "execution_count": null,
   "metadata": {},
   "outputs": [],
   "source": [
    "thresh = 0.65\n",
    "fps = Similarity(mols=ht2a_mols).fps\n",
    "picks = lp.LazyBitVectorPick(fps,len(fps),thresh)"
   ]
  },
  {
   "cell_type": "code",
   "execution_count": null,
   "metadata": {},
   "outputs": [],
   "source": [
    "from rdkit import DataStructs\n",
    "from collections import defaultdict\n",
    "import numpy as np\n",
    "def assignPointsToClusters(picks,fps):\n",
    "    clusters = defaultdict(list)\n",
    "    for i,idx in enumerate(picks):\n",
    "        clusters[i].append(idx)\n",
    "    sims = np.zeros((len(picks),len(fps)))\n",
    "    for i in range(len(picks)):\n",
    "        pick = picks[i]\n",
    "        sims[i,:] = DataStructs.BulkTanimotoSimilarity(fps[pick],fps)\n",
    "        sims[i,i] = 0\n",
    "    best = np.argmax(sims,axis=0)\n",
    "    for i,idx in enumerate(best):\n",
    "        if i not in picks:\n",
    "            clusters[idx].append(i)\n",
    "    return clusters"
   ]
  },
  {
   "cell_type": "code",
   "execution_count": null,
   "metadata": {},
   "outputs": [],
   "source": [
    "clusters = assignPointsToClusters(picks,fps)"
   ]
  },
  {
   "cell_type": "code",
   "execution_count": null,
   "metadata": {},
   "outputs": [],
   "source": [
    "len(clusters[0])"
   ]
  },
  {
   "cell_type": "code",
   "execution_count": null,
   "metadata": {},
   "outputs": [],
   "source": [
    "thresh = 0.75\n",
    "fps = Similarity(mols=ht2a_mols).fps\n",
    "picks = lp.LazyBitVectorPick(fps,len(fps),thresh)"
   ]
  },
  {
   "cell_type": "code",
   "execution_count": null,
   "metadata": {},
   "outputs": [],
   "source": [
    "len(picks)"
   ]
  },
  {
   "cell_type": "code",
   "execution_count": null,
   "metadata": {},
   "outputs": [],
   "source": [
    "from rdkit import DataStructs\n",
    "pickfps = [fps[x] for x in picks]\n",
    "nearest = []\n",
    "simhist = []\n",
    "for i,fpi in enumerate(pickfps):\n",
    "    tfps = pickfps[:]\n",
    "    del tfps[i]\n",
    "    sims = DataStructs.BulkTanimotoSimilarity(fpi,tfps)\n",
    "    nearest.append(max(sims))\n",
    "    simhist.extend(sims)\n",
    "sorted(nearest,reverse=True)[:10]"
   ]
  },
  {
   "cell_type": "markdown",
   "metadata": {},
   "source": [
    "#### Save results"
   ]
  },
  {
   "cell_type": "code",
   "execution_count": null,
   "metadata": {},
   "outputs": [],
   "source": [
    "import pickle\n",
    "from easydict import EasyDict\n",
    "\n",
    "di = EasyDict({\n",
    "    '5HT2A': EasyDict({'intdiv': int, 'scaff_intdiv': ht2a_sca, 'circle': cir_ht2a}),\n",
    "    'BTK': EasyDict({'intdiv': btk, 'scaff_intdiv': btk_sca, 'circle': cir_btk}),\n",
    "    'NAMPT': EasyDict({'intdiv': nampt, 'scaff_intdiv': nampt_sca, 'circle': cir_nampt})\n",
    "})\n"
   ]
  },
  {
   "cell_type": "code",
   "execution_count": null,
   "metadata": {},
   "outputs": [],
   "source": [
    "with open('../testfile/DiffSBDD/divesity.pkl', 'wb') as fi:\n",
    "    pickle.dump(di, fi)"
   ]
  }
 ],
 "metadata": {
  "kernelspec": {
   "display_name": "tarpass",
   "language": "python",
   "name": "python3"
  },
  "language_info": {
   "codemirror_mode": {
    "name": "ipython",
    "version": 3
   },
   "file_extension": ".py",
   "mimetype": "text/x-python",
   "name": "python",
   "nbconvert_exporter": "python",
   "pygments_lexer": "ipython3",
   "version": "3.11.8"
  }
 },
 "nbformat": 4,
 "nbformat_minor": 2
}

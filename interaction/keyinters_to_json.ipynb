{
 "cells": [
  {
   "cell_type": "markdown",
   "id": "c7aa2496",
   "metadata": {},
   "source": [
    "### Key interactions to json\n",
    "\n",
    "This notebook converts the key interactions information obtained in csv to json format for subsequent comparison."
   ]
  },
  {
   "cell_type": "code",
   "execution_count": null,
   "id": "aeeb0ab5",
   "metadata": {},
   "outputs": [],
   "source": [
    "import pandas as pd\n",
    "\n",
    "df = pd.read_csv('./keyinteractions.csv')\n",
    "df"
   ]
  },
  {
   "cell_type": "code",
   "execution_count": null,
   "id": "db4c4c6d",
   "metadata": {},
   "outputs": [],
   "source": [
    "def parse_rule(rule, target):\n",
    "\n",
    "    def add_prefix(r, target):\n",
    "        upper = r.upper()\n",
    "        pref = 'A_' if target != 'MEK1' else 'B_' # MEK1 in chain B\n",
    "        if \"'\" in upper: # NAMPT in PPI surface\n",
    "            upper = upper.replace(\"'\", \"\")\n",
    "            pref = 'B_'\n",
    "        return pref + upper\n",
    "\n",
    "    rules = []\n",
    "    for sub_rule in rule.split(';'):\n",
    "        if '+' in sub_rule:\n",
    "            res = sub_rule.split('+')\n",
    "            match_mode = 'all'\n",
    "        elif '/' in sub_rule:\n",
    "            res = sub_rule.split('/')\n",
    "            match_mode = 'any'\n",
    "        else:\n",
    "            res = [sub_rule]\n",
    "            match_mode = 'all'\n",
    "        rules.append({\n",
    "            'residues': [add_prefix(r, target) for r in res],\n",
    "            'match_mode': match_mode\n",
    "        })\n",
    "    return rules"
   ]
  },
  {
   "cell_type": "code",
   "execution_count": null,
   "id": "38bd95f8",
   "metadata": {},
   "outputs": [],
   "source": [
    "inters = {}\n",
    "for index, row in df.iterrows():\n",
    "    target = row['Target']\n",
    "    inters[target] = {\n",
    "        col: parse_rule(value, target) \n",
    "        for col, value in row[1:].items() if not pd.isna(value)}"
   ]
  }
 ],
 "metadata": {
  "kernelspec": {
   "display_name": "tarpass",
   "language": "python",
   "name": "python3"
  },
  "language_info": {
   "codemirror_mode": {
    "name": "ipython",
    "version": 3
   },
   "file_extension": ".py",
   "mimetype": "text/x-python",
   "name": "python",
   "nbconvert_exporter": "python",
   "pygments_lexer": "ipython3",
   "version": "3.12.2"
  }
 },
 "nbformat": 4,
 "nbformat_minor": 5
}

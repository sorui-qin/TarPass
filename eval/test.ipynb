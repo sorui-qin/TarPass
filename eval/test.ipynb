{
 "cells": [
  {
   "cell_type": "code",
   "execution_count": 72,
   "metadata": {},
   "outputs": [
    {
     "data": {
      "text/plain": [
       "<plip.structure.preparation.PDBComplex at 0x7beda9383a50>"
      ]
     },
     "execution_count": 72,
     "metadata": {},
     "output_type": "execute_result"
    }
   ],
   "source": [
    "from plip.structure.preparation import PDBComplex\n",
    "my_mol = PDBComplex()\n",
    "my_mol.load_pdb('./test.pdb')\n",
    "my_mol"
   ]
  },
  {
   "cell_type": "code",
   "execution_count": 73,
   "metadata": {},
   "outputs": [
    {
     "data": {
      "text/plain": [
       "['MTA:A:701', 'UNL:Z:1']"
      ]
     },
     "execution_count": 73,
     "metadata": {},
     "output_type": "execute_result"
    }
   ],
   "source": [
    "formatted_lig_names = [\":\".join([x.hetid, x.chain, str(x.position)]) for x in my_mol.ligands]\n",
    "formatted_lig_names"
   ]
  },
  {
   "cell_type": "code",
   "execution_count": 74,
   "metadata": {},
   "outputs": [],
   "source": [
    "my_mol.analyze()"
   ]
  },
  {
   "cell_type": "code",
   "execution_count": 75,
   "metadata": {},
   "outputs": [
    {
     "data": {
      "text/plain": [
       "<plip.structure.preparation.PLInteraction at 0x7beda0f38310>"
      ]
     },
     "execution_count": 75,
     "metadata": {},
     "output_type": "execute_result"
    }
   ],
   "source": [
    "my_mol.interaction_sets['UNL:Z:1']"
   ]
  },
  {
   "cell_type": "code",
   "execution_count": 78,
   "metadata": {},
   "outputs": [
    {
     "data": {
      "text/plain": [
       "{327, 579}"
      ]
     },
     "execution_count": 78,
     "metadata": {},
     "output_type": "execute_result"
    }
   ],
   "source": [
    "my_interactions = my_mol.interaction_sets['UNL:Z:1']\n",
    "set([pistack.resnr for pistack in my_interactions.pistacking])"
   ]
  },
  {
   "cell_type": "code",
   "execution_count": null,
   "metadata": {},
   "outputs": [],
   "source": [
    "from rdkit import Chem\n",
    "\n",
    "def combined_pdb_complex(pdb, sdf, output_pdb):\n",
    "    protein = Chem.MolFromPDBFile(pdb)\n",
    "    ligand = Chem.SDMolSupplier(sdf)[0]\n",
    "    combined = Chem.CombineMols(protein, ligand)\n",
    "    Chem.MolToPDBFile(combined, output_pdb)"
   ]
  },
  {
   "cell_type": "code",
   "execution_count": null,
   "metadata": {},
   "outputs": [],
   "source": [
    "combined_pdb_complex('./7s1s_noligand.pdb', './PRMT5_7S1S_ligand_A.sdf', 'test.pdb')"
   ]
  }
 ],
 "metadata": {
  "kernelspec": {
   "display_name": "tarpass",
   "language": "python",
   "name": "python3"
  },
  "language_info": {
   "codemirror_mode": {
    "name": "ipython",
    "version": 3
   },
   "file_extension": ".py",
   "mimetype": "text/x-python",
   "name": "python",
   "nbconvert_exporter": "python",
   "pygments_lexer": "ipython3",
   "version": "3.11.8"
  }
 },
 "nbformat": 4,
 "nbformat_minor": 2
}
